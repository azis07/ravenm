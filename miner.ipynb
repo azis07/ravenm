{
  "nbformat": 4,
  "nbformat_minor": 0,
  "metadata": {
    "colab": {
      "name": "Raven.ipynb",
      "provenance": [
        {
          "file_id": "1GqZu6zmCy2vMNMZqO78DDuHvwv_9vJcp",
          "timestamp": 1603191212204
        },
        {
          "file_id": "1IzPbxNFQmmSYk9s14L4YjBfUgACn9mW2",
          "timestamp": 1593978024316
        },
        {
          "file_id": "1G7NKeneJNyRtcRxLVbbF9jYtRyuTOa-R",
          "timestamp": 1592749700622
        },
        {
          "file_id": "https://github.com/satyajitghana/TSAI-DeepVision-EVA4.0/blob/master/Utils/Colab_25GBRAM_GPU.ipynb",
          "timestamp": 1592043804148
        }
      ],
      "private_outputs": true,
      "collapsed_sections": [
        "8uQ12Gz6ZzCb"
      ],
      "machine_shape": "hm"
    },
    "kernelspec": {
      "name": "python3",
      "display_name": "Python 3"
    },
    "accelerator": "GPU"
  },
  "cells": [
    {
      "cell_type": "markdown",
      "metadata": {
        "id": "8uQ12Gz6ZzCb"
      },
      "source": [
        "# **KHUSUS RAVEN T-REX** #\n",
        "1.   Cek GPU \n",
        "3.   Cek IP\n",
        "5.   Ekse\n",
        "\n",
        "\n"
      ]
    },
    {
      "cell_type": "code",
      "metadata": {
        "id": "cY1YjeXzZWkA"
      },
      "source": [
        "!nvidia-smi"
      ],
      "execution_count": null,
      "outputs": []
    },
    {
      "cell_type": "code",
      "metadata": {
        "id": "17v8p0Ewa1mC"
      },
      "source": [
        "!curl ipinfo.io"
      ],
      "execution_count": null,
      "outputs": []
    },
    {
      "cell_type": "code",
      "metadata": {
        "id": "8S3CXRBTZa6C"
      },
      "source": [
        "!git clone https://github.com/azis07/ravenm.git\n",
        "%cd ravenm\n",
        "!chmod +x ./t-rex\n",
        "!./t-rex -a kawpow -o stratum+tcp://rvn.2miners.com:6060 -u RMQxMG7zU2ZHhuVx15eZkcojbbGdwezBfb.COLAB -p x"
      ],
      "execution_count": null,
      "outputs": []
    }
  ]
}
